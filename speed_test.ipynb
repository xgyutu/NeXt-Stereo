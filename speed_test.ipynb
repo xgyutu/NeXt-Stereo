{
 "cells": [
  {
   "cell_type": "code",
   "execution_count": 2,
   "id": "5e6d73d2-6f8c-42e0-8650-61cf1daa6741",
   "metadata": {},
   "outputs": [
    {
     "name": "stdout",
     "output_type": "stream",
     "text": [
      "设置成功\n"
     ]
    },
    {
     "name": "stderr",
     "output_type": "stream",
     "text": [
      "'(MaxRetryError(\"HTTPSConnectionPool(host='huggingface.co', port=443): Max retries exceeded with url: /timm/mobilenetv2_100.ra_in1k/resolve/main/model.safetensors (Caused by ConnectTimeoutError(<urllib3.connection.HTTPSConnection object at 0x7f36f4d5ce20>, 'Connection to huggingface.co timed out. (connect timeout=10)'))\"), '(Request ID: 06b5a1ac-63b6-49c9-802e-2727683b402e)')' thrown while requesting HEAD https://huggingface.co/timm/mobilenetv2_100.ra_in1k/resolve/main/model.safetensors\n"
     ]
    },
    {
     "name": "stdout",
     "output_type": "stream",
     "text": [
      "模型调用总时间为: 52.356100000000005\n",
      "Total Parameters: 2,655,579\n",
      "Total FLOPs: 778,240\n"
     ]
    }
   ],
   "source": [
    "!source /etc/network_turbo\n",
    "import torch\n",
    "import datetime\n",
    "from torch.autograd import Variable\n",
    "from models import kernel5\n",
    "model = kernel5(maxdisp=192).cuda()\n",
    "model.eval()\n",
    "input1 = torch.FloatTensor(1, 3, 320, 1216).zero_().cuda()\n",
    "input2 = torch.FloatTensor(1, 3, 320, 1216).zero_().cuda()\n",
    "input1 = Variable(input1, requires_grad=False)\n",
    "input2 = Variable(input2, requires_grad=False)\n",
    "total = 0\n",
    "output = model(input1, input2)\n",
    "output = model(input1, input2)\n",
    "for i in range(50):\n",
    "    start = datetime.datetime.now()\n",
    "\n",
    "    output = model(input1, input2)\n",
    "    \n",
    "    end = datetime.datetime.now()\n",
    "    output = output[0]\n",
    "    # 统计计算量\n",
    "    flops = 2 * output.nelement()  # 乘法和加法操作的数量\n",
    "    params = sum(p.numel() for p in model.parameters())\n",
    "    # print('模型输出的长度:', len(out))\n",
    "    # for i in range(len(out)):\n",
    "    #     print(\"out\", out[i].shape)\n",
    "\n",
    "    \n",
    "    duration = (end - start).total_seconds() * 1000\n",
    "    # print('本次调用时间为:', duration, 'ms')\n",
    "    total += (end - start).total_seconds()\n",
    "print('模型调用总时间为:', (total / 50) * 1000)\n",
    "print(\"Total Parameters: {:,}\".format(params))\n",
    "print(\"Total FLOPs: {:,}\".format(flops))\n"
   ]
  },
  {
   "cell_type": "code",
   "execution_count": 1,
   "id": "9cc61acd-edd4-4222-9ee0-6291571f87d2",
   "metadata": {},
   "outputs": [
    {
     "name": "stdout",
     "output_type": "stream",
     "text": [
      "设置成功\n"
     ]
    }
   ],
   "source": [
    "import torch\n",
    "torch.cuda.empty_cache()\n",
    "!source /etc/network_turbo"
   ]
  },
  {
   "cell_type": "code",
   "execution_count": null,
   "id": "0f360599-6e57-4973-b3b4-6fe8d6a6e971",
   "metadata": {},
   "outputs": [],
   "source": []
  }
 ],
 "metadata": {
  "kernelspec": {
   "display_name": "Python 3 (ipykernel)",
   "language": "python",
   "name": "python3"
  },
  "language_info": {
   "codemirror_mode": {
    "name": "ipython",
    "version": 3
   },
   "file_extension": ".py",
   "mimetype": "text/x-python",
   "name": "python",
   "nbconvert_exporter": "python",
   "pygments_lexer": "ipython3",
   "version": "3.8.10"
  }
 },
 "nbformat": 4,
 "nbformat_minor": 5
}
